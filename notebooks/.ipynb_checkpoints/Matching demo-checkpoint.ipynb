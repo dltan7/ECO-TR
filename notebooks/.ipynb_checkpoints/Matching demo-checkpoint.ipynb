{
 "cells": [
  {
   "cell_type": "markdown",
   "metadata": {
    "id": "v6abPDvgJ_8m"
   },
   "source": [
    "##**Prepare data and environment(beta)**"
   ]
  },
  {
   "cell_type": "code",
   "execution_count": 1,
   "metadata": {
    "colab": {
     "base_uri": "https://localhost:8080/"
    },
    "executionInfo": {
     "elapsed": 6138,
     "status": "ok",
     "timestamp": 1662979127401,
     "user": {
      "displayName": "Dongli Tan",
      "userId": "05991943393900455679"
     },
     "user_tz": -480
    },
    "id": "1cCDHNY1J_AU",
    "outputId": "fc900c5a-3911-4118-ed94-e8e093380673"
   },
   "outputs": [
    {
     "name": "stdout",
     "output_type": "stream",
     "text": [
      "/dellnas/home/tandongli/workdir/ECO-TR\n"
     ]
    }
   ],
   "source": [
    "%cd .."
   ]
  },
  {
   "cell_type": "markdown",
   "metadata": {
    "id": "Cz3l91jTaapJ"
   },
   "source": [
    "##**Load inference engine**"
   ]
  },
  {
   "cell_type": "code",
   "execution_count": 2,
   "metadata": {
    "colab": {
     "base_uri": "https://localhost:8080/"
    },
    "executionInfo": {
     "elapsed": 52217,
     "status": "ok",
     "timestamp": 1662706725920,
     "user": {
      "displayName": "Dongli Tan",
      "userId": "05991943393900455679"
     },
     "user_tz": -480
    },
    "id": "7e3VG4fxqf_q",
    "outputId": "725c27b3-8c90-4235-c2eb-8fdc59ae163c"
   },
   "outputs": [],
   "source": [
    "import os,sys\n",
    "import random\n",
    "import cv2\n",
    "import numpy as np\n",
    "import torch\n",
    "import matplotlib.pyplot as plt\n",
    "from dotmap import DotMap\n",
    "from src.config.default import get_cfg_defaults\n",
    "from src.utils.misc import lower_config\n",
    "from src.models.ecotr_engines import *\n",
    "from src.models.utils.utils import *\n",
    "\n",
    "dict = DotMap(lower_config(get_cfg_defaults()))\n",
    "dict.ecotr.engine.device='cuda:4'\n",
    "fix_randomness(42)\n",
    "engine=ECOTR_Engine(dict.ecotr)\n"
   ]
  },
  {
   "cell_type": "markdown",
   "metadata": {
    "id": "NOJrkEKia24C"
   },
   "source": [
    "##**Select image pairs**"
   ]
  },
  {
   "cell_type": "code",
   "execution_count": null,
   "metadata": {
    "id": "-wFHZnvsPgPF"
   },
   "outputs": [],
   "source": [
    "torch.cuda.empty_cache()\n",
    "\n",
    "pairs=[['./assets/34256848_2093205455.jpg','./assets/63163121_2253976476.jpg'], #taj\n",
    "      ['./assets/recon_img_0.jpg','./assets/recon_img_1.jpg'], \n",
    "      ['./assets/NIR01.jpg','./assets/photo.jpg'],\n",
    "      ['./assets/sxc_sketch.jpg','./assets/sxc_photo.jpg']]\n",
    "idx=1\n",
    "img0=cv2.imread(pairs[idx][0])[...,[2,1,0]]\n",
    "img1=cv2.imread(pairs[idx][1])[...,[2,1,0]]"
   ]
  },
  {
   "cell_type": "markdown",
   "metadata": {
    "id": "yQlHUFMLbA7B"
   },
   "source": [
    "##**Func1. Coarse to fine Inference**"
   ]
  },
  {
   "cell_type": "code",
   "execution_count": null,
   "metadata": {
    "id": "pDKnEp8ga-DC"
   },
   "outputs": [],
   "source": [
    "engine.MAX_KPTS_NUM=10000\n",
    "engine.ASPECT_RATIOS=[1.0,1.5]\n",
    "\n",
    "#coarse2fine \n",
    "matches=engine.forward(img0,img1,cycle=True,level='fine')\n",
    "\n",
    "#coarse2fine with scale estimation\n",
    "# matches=engine.forward_2stage(img0,img1,cycle=False)\n",
    "\n",
    "#Func2. Refine matches provided by other methods(eg:spsg)**\n",
    "# matches=engine.forward_refine(img0,img1,\n",
    "#   queries = matches[:,:2].reshape(-1,2),\n",
    "#   corrs = matches[:,2:4].reshape(-1,2))\n",
    "\n",
    "mask=matches[:,-1]<1e-2\n",
    "matches=matches[mask]"
   ]
  },
  {
   "cell_type": "code",
   "execution_count": null,
   "metadata": {
    "colab": {
     "base_uri": "https://localhost:8080/",
     "height": 705
    },
    "executionInfo": {
     "elapsed": 14260,
     "status": "ok",
     "timestamp": 1662706783898,
     "user": {
      "displayName": "Dongli Tan",
      "userId": "05991943393900455679"
     },
     "user_tz": -480
    },
    "id": "6pRfYyoVoqhf",
    "outputId": "48c0582b-e4bf-425c-fa3a-d5b4dbcf6b47"
   },
   "outputs": [],
   "source": [
    "canvas = draw_matches(img0,img1,matches.copy(),'dot')\n",
    "height,width = canvas.shape[:2]\n",
    "\n",
    "dpi=100\n",
    "figsize = width / float(dpi), height / float(dpi)\n",
    "plt.figure(figsize=figsize)\n",
    "plt.imshow(canvas)\n",
    "plt.show()"
   ]
  },
  {
   "cell_type": "code",
   "execution_count": null,
   "metadata": {},
   "outputs": [],
   "source": []
  }
 ],
 "metadata": {
  "accelerator": "GPU",
  "colab": {
   "authorship_tag": "ABX9TyPuZTMUS4AOghCzegX7xPyS",
   "collapsed_sections": [],
   "provenance": [
    {
     "file_id": "1-fnY5JaPKvWIcDKpTOTmqTLw28FllleD",
     "timestamp": 1662706845571
    },
    {
     "file_id": "1O8V7NdfVGQpOBRHZC6ADfdEfXggbW4PX",
     "timestamp": 1661840168079
    }
   ]
  },
  "gpuClass": "standard",
  "kernelspec": {
   "display_name": "Python 3 (ipykernel)",
   "language": "python",
   "name": "python3"
  },
  "language_info": {
   "codemirror_mode": {
    "name": "ipython",
    "version": 3
   },
   "file_extension": ".py",
   "mimetype": "text/x-python",
   "name": "python",
   "nbconvert_exporter": "python",
   "pygments_lexer": "ipython3",
   "version": "3.7.13"
  },
  "vscode": {
   "interpreter": {
    "hash": "ceeeae9ca87c1bf183f52321f95df5c5fc360a41bb818506a5810c108d100c87"
   }
  }
 },
 "nbformat": 4,
 "nbformat_minor": 1
}
